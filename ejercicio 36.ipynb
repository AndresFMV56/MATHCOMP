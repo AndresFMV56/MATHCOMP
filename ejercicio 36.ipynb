{
  "cells": [
    {
      "cell_type": "code",
      "source": [
        "import math\n",
        "\n",
        "# Número de letras y dígitos\n",
        "letras_totales = 26\n",
        "digitos_totales = 10\n",
        "\n",
        "# 1. Con repeticiones permitidas\n",
        "# Número de combinaciones para las letras y los dígitos\n",
        "placas_con_repeticiones = (letras_totales ** 3) * (digitos_totales ** 3)\n",
        "\n",
        "# 2. Sin repeticiones permitidas\n",
        "# Número de permutaciones para las letras y los dígitos\n",
        "permutaciones_letras = math.perm(letras_totales, 3)\n",
        "permutaciones_digitos = math.perm(digitos_totales, 3)\n",
        "placas_sin_repeticiones = permutaciones_letras * permutaciones_digitos\n",
        "\n",
        "print(f\"El número total de placas con repeticiones permitidas es: {placas_con_repeticiones}\")\n",
        "print(f\"El número total de placas sin repeticiones permitidas es: {placas_sin_repeticiones}\")\n"
      ],
      "metadata": {
        "colab": {
          "base_uri": "https://localhost:8080/"
        },
        "id": "8QiJ6IIStoco",
        "outputId": "070fc522-7008-487a-e771-291d3262533a"
      },
      "execution_count": 39,
      "outputs": [
        {
          "output_type": "stream",
          "name": "stdout",
          "text": [
            "El número total de placas con repeticiones permitidas es: 17576000\n",
            "El número total de placas sin repeticiones permitidas es: 11232000\n"
          ]
        }
      ]
    },
    {
      "cell_type": "markdown",
      "source": [],
      "metadata": {
        "id": "zRNsKyqf0T0S"
      }
    }
  ],
  "metadata": {
    "colab": {
      "name": " Introduccion_Colab.ipynb",
      "provenance": [],
      "machine_shape": "hm"
    },
    "kernelspec": {
      "name": "python3",
      "display_name": "Python 3"
    },
    "accelerator": "GPU"
  },
  "nbformat": 4,
  "nbformat_minor": 0
}