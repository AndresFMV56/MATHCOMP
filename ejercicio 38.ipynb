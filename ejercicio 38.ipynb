{
  "cells": [
    {
      "cell_type": "code",
      "source": [
        "import itertools\n",
        "\n",
        "# Número total de estudiantes y número de roles\n",
        "total_estudiantes = 12\n",
        "roles = 4\n",
        "\n",
        "# Generar todas las permutaciones posibles para 4 roles de 12 estudiantes\n",
        "permutaciones = list(itertools.permutations(range(total_estudiantes), roles))\n",
        "\n",
        "# Número total de permutaciones\n",
        "numero_permutaciones = len(permutaciones)\n",
        "\n",
        "print(f\"El número de maneras de seleccionar un presidente, vicepresidente, secretario y tesorero de 12 estudiantes es: {numero_permutaciones}\")\n"
      ],
      "metadata": {
        "colab": {
          "base_uri": "https://localhost:8080/"
        },
        "id": "8QiJ6IIStoco",
        "outputId": "a49a0873-4e95-4f32-a4cc-aac09a629667"
      },
      "execution_count": 41,
      "outputs": [
        {
          "output_type": "stream",
          "name": "stdout",
          "text": [
            "El número de maneras de seleccionar un presidente, vicepresidente, secretario y tesorero de 12 estudiantes es: 11880\n"
          ]
        }
      ]
    },
    {
      "cell_type": "markdown",
      "source": [],
      "metadata": {
        "id": "zRNsKyqf0T0S"
      }
    }
  ],
  "metadata": {
    "colab": {
      "name": " Introduccion_Colab.ipynb",
      "provenance": [],
      "machine_shape": "hm"
    },
    "kernelspec": {
      "name": "python3",
      "display_name": "Python 3"
    },
    "accelerator": "GPU"
  },
  "nbformat": 4,
  "nbformat_minor": 0
}