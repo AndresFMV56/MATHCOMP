{
  "cells": [
    {
      "cell_type": "code",
      "source": [
        "import math\n",
        "\n",
        "def check_expressions():\n",
        "    results = {}\n",
        "\n",
        "    # a. 9! = 9 * 8 * 7 * 6!\n",
        "    a_result = (math.factorial(9) == 9 * 8 * math.factorial(6))\n",
        "    results['a'] = a_result\n",
        "\n",
        "    # b. 5! * 4! = 20!\n",
        "    b_result = (math.factorial(5) * math.factorial(4) == math.factorial(20))\n",
        "    results['b'] = b_result\n",
        "\n",
        "    # c. 5! + 5! = 10!\n",
        "    c_result = (math.factorial(5) + math.factorial(5) == math.factorial(10))\n",
        "    results['c'] = c_result\n",
        "\n",
        "    # d. 8! = 9! / 9\n",
        "    d_result = (math.factorial(8) == math.factorial(9) / 9)\n",
        "    results['d'] = d_result\n",
        "\n",
        "    # e. 5! = 10! / 2!\n",
        "    e_result = (math.factorial(5) == math.factorial(10) / math.factorial(2))\n",
        "    results['e'] = e_result\n",
        "\n",
        "    # f. 3/4 + 1/4 = 1!\n",
        "    f_result = (3/4 + 1/4 == math.factorial(1))\n",
        "    results['f'] = f_result\n",
        "\n",
        "    # g. 3! * 2! = 6!\n",
        "    g_result = (math.factorial(3) * math.factorial(2) == math.factorial(6))\n",
        "    results['g'] = g_result\n",
        "\n",
        "    # h. 8! = 6! * 56\n",
        "    h_result = (math.factorial(8) == math.factorial(6) * 56)\n",
        "    results['h'] = h_result\n",
        "\n",
        "    return results\n",
        "\n",
        "# Print results\n",
        "results = check_expressions()\n",
        "for expression, result in results.items():\n",
        "    print(f\"{expression}: {'Verdadera' if result else 'Falsa'}\")\n"
      ],
      "metadata": {
        "colab": {
          "base_uri": "https://localhost:8080/"
        },
        "id": "8QiJ6IIStoco",
        "outputId": "40972aa8-75a2-4f37-df19-498bac3985ee"
      },
      "execution_count": 23,
      "outputs": [
        {
          "output_type": "stream",
          "name": "stdout",
          "text": [
            "a: Falsa\n",
            "b: Falsa\n",
            "c: Falsa\n",
            "d: Verdadera\n",
            "e: Falsa\n",
            "f: Verdadera\n",
            "g: Falsa\n",
            "h: Verdadera\n"
          ]
        }
      ]
    }
  ],
  "metadata": {
    "colab": {
      "name": " Introduccion_Colab.ipynb",
      "provenance": [],
      "machine_shape": "hm"
    },
    "kernelspec": {
      "name": "python3",
      "display_name": "Python 3"
    },
    "accelerator": "GPU"
  },
  "nbformat": 4,
  "nbformat_minor": 0
}