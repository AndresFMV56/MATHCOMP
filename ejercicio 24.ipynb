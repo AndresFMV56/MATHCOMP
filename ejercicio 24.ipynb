{
  "cells": [
    {
      "cell_type": "code",
      "source": [
        "import itertools\n",
        "\n",
        "# Definir los números de títulos y bonos\n",
        "total_titulos = 13\n",
        "total_bonos = 12\n",
        "\n",
        "# Número de títulos y bonos a seleccionar\n",
        "titulos_a_vender = 4\n",
        "bonos_a_vender = 3\n",
        "\n",
        "# Generar todas las combinaciones posibles de títulos y bonos\n",
        "combinaciones_titulos = list(itertools.combinations(range(total_titulos), titulos_a_vender))\n",
        "combinaciones_bonos = list(itertools.combinations(range(total_bonos), bonos_a_vender))\n",
        "\n",
        "# Calcular el número total de formas de elegir 4 títulos de 13 y 3 bonos de 12\n",
        "numero_combinaciones_titulos = len(combinaciones_titulos)\n",
        "numero_combinaciones_bonos = len(combinaciones_bonos)\n",
        "\n",
        "# Calcular el número total de formas de vender 4 títulos y 3 bonos\n",
        "numero_total_formas = numero_combinaciones_titulos * numero_combinaciones_bonos\n",
        "\n",
        "print(f\"El número total de formas de vender 4 títulos y 3 bonos es: {numero_total_formas}\")\n"
      ],
      "metadata": {
        "colab": {
          "base_uri": "https://localhost:8080/"
        },
        "id": "8QiJ6IIStoco",
        "outputId": "5d483c81-575f-4be9-ba09-776b47a1eda1"
      },
      "execution_count": 27,
      "outputs": [
        {
          "output_type": "stream",
          "name": "stdout",
          "text": [
            "El número total de formas de vender 4 títulos y 3 bonos es: 157300\n"
          ]
        }
      ]
    }
  ],
  "metadata": {
    "colab": {
      "name": " Introduccion_Colab.ipynb",
      "provenance": [],
      "machine_shape": "hm"
    },
    "kernelspec": {
      "name": "python3",
      "display_name": "Python 3"
    },
    "accelerator": "GPU"
  },
  "nbformat": 4,
  "nbformat_minor": 0
}