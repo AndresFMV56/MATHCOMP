{
  "cells": [
    {
      "cell_type": "code",
      "source": [
        "import itertools\n",
        "\n",
        "total_technoarquitectos = 5\n",
        "total_arquitectos_magicos = 7\n",
        "\n",
        "technoarquitectos_a_seleccionar = 2\n",
        "arquitectos_magicos_a_seleccionar = 3\n",
        "\n",
        "# a. Cualquier technoarquitecto y cualquier arquitecto mágico\n",
        "combinaciones_technoarquitectos_a = len(list(itertools.combinations(range(total_technoarquitectos), technoarquitectos_a_seleccionar)))\n",
        "combinaciones_arquitectos_magicos_a = len(list(itertools.combinations(range(total_arquitectos_magicos), arquitectos_magicos_a_seleccionar)))\n",
        "total_formas_a = combinaciones_technoarquitectos_a * combinaciones_arquitectos_magicos_a\n",
        "\n",
        "# b. Un arquitecto mágico determinado debe pertenecer al comité\n",
        "arquitectos_magicos_restantes = total_arquitectos_magicos - 1\n",
        "combinaciones_arquitectos_magicos_b = len(list(itertools.combinations(range(arquitectos_magicos_restantes), arquitectos_magicos_a_seleccionar - 1)))\n",
        "combinaciones_technoarquitectos_b = len(list(itertools.combinations(range(total_technoarquitectos), technoarquitectos_a_seleccionar)))\n",
        "total_formas_b = combinaciones_technoarquitectos_b * combinaciones_arquitectos_magicos_b\n",
        "\n",
        "# c. Dos technoarquitectos determinados no deben estar en el comité\n",
        "technoarquitectos_restantes = total_technoarquitectos - 2\n",
        "combinaciones_technoarquitectos_c = len(list(itertools.combinations(range(technoarquitectos_restantes), technoarquitectos_a_seleccionar)))\n",
        "combinaciones_arquitectos_magicos_c = len(list(itertools.combinations(range(total_arquitectos_magicos), arquitectos_magicos_a_seleccionar)))\n",
        "total_formas_c = combinaciones_technoarquitectos_c * combinaciones_arquitectos_magicos_c\n",
        "\n",
        "print(\"Número de formas para formar el comité (cualquier technoarquitecto y arquitecto mágico):\", total_formas_a)\n",
        "print(\"Número de formas para formar el comité (un arquitecto mágico determinado debe estar):\", total_formas_b)\n",
        "print(\"Número de formas para formar el comité (dos technoarquitectos determinados no deben estar):\", total_formas_c)\n"
      ],
      "metadata": {
        "colab": {
          "base_uri": "https://localhost:8080/"
        },
        "id": "8QiJ6IIStoco",
        "outputId": "a8e60b42-f2ce-4de3-89ac-4d7cde5e0c19"
      },
      "execution_count": 14,
      "outputs": [
        {
          "output_type": "stream",
          "name": "stdout",
          "text": [
            "Número de formas para formar el comité (cualquier technoarquitecto y arquitecto mágico): 350\n",
            "Número de formas para formar el comité (un arquitecto mágico determinado debe estar): 150\n",
            "Número de formas para formar el comité (dos technoarquitectos determinados no deben estar): 105\n"
          ]
        }
      ]
    }
  ],
  "metadata": {
    "colab": {
      "name": " Introduccion_Colab.ipynb",
      "provenance": [],
      "machine_shape": "hm"
    },
    "kernelspec": {
      "name": "python3",
      "display_name": "Python 3"
    },
    "accelerator": "GPU"
  },
  "nbformat": 4,
  "nbformat_minor": 0
}