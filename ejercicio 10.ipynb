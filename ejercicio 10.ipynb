{
  "cells": [
    {
      "cell_type": "code",
      "source": [
        "import itertools\n",
        "\n",
        "total_hombres = 7\n",
        "total_mujeres = 5\n",
        "\n",
        "hombres_a_seleccionar = 3\n",
        "mujeres_a_seleccionar = 2\n",
        "\n",
        "combinaciones_hombres = itertools.combinations(range(total_hombres), hombres_a_seleccionar)\n",
        "numero_combinaciones_hombres = len(list(combinaciones_hombres))\n",
        "\n",
        "combinaciones_mujeres = itertools.combinations(range(total_mujeres), mujeres_a_seleccionar)\n",
        "numero_combinaciones_mujeres = len(list(combinaciones_mujeres))\n",
        "\n",
        "numero_total_comites = numero_combinaciones_hombres * numero_combinaciones_mujeres\n",
        "\n",
        "print(\"Número de maneras de escoger un comité de 3 hombres y 2 mujeres:\", numero_total_comites)\n"
      ],
      "metadata": {
        "colab": {
          "base_uri": "https://localhost:8080/"
        },
        "id": "8QiJ6IIStoco",
        "outputId": "c80b931f-941d-4d16-c4d7-0f4b230e92c5"
      },
      "execution_count": 13,
      "outputs": [
        {
          "output_type": "stream",
          "name": "stdout",
          "text": [
            "Número de maneras de escoger un comité de 3 hombres y 2 mujeres: 350\n"
          ]
        }
      ]
    }
  ],
  "metadata": {
    "colab": {
      "name": " Introduccion_Colab.ipynb",
      "provenance": [],
      "machine_shape": "hm"
    },
    "kernelspec": {
      "name": "python3",
      "display_name": "Python 3"
    },
    "accelerator": "GPU"
  },
  "nbformat": 4,
  "nbformat_minor": 0
}