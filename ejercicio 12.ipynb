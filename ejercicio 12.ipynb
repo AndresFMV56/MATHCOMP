{
  "cells": [
    {
      "cell_type": "code",
      "source": [
        "import itertools\n",
        "import math\n",
        "\n",
        "total_consonantes = 7\n",
        "total_vocales = 5\n",
        "\n",
        "consonantes_a_seleccionar = 4\n",
        "vocales_a_seleccionar = 3\n",
        "\n",
        "combinaciones_consonantes = list(itertools.combinations(range(total_consonantes), consonantes_a_seleccionar))\n",
        "\n",
        "combinaciones_vocales = list(itertools.combinations(range(total_vocales), vocales_a_seleccionar))\n",
        "\n",
        "numero_combinaciones_consonantes = len(combinaciones_consonantes)\n",
        "numero_combinaciones_vocales = len(combinaciones_vocales)\n",
        "\n",
        "total_selecciones = numero_combinaciones_consonantes * numero_combinaciones_vocales\n",
        "\n",
        "\n",
        "permutaciones = math.factorial(consonantes_a_seleccionar + vocales_a_seleccionar)\n",
        "\n",
        "total_palabras = total_selecciones * permutaciones\n",
        "\n",
        "print(\"Número total de palabras que se pueden formar:\", total_palabras)\n"
      ],
      "metadata": {
        "colab": {
          "base_uri": "https://localhost:8080/"
        },
        "id": "8QiJ6IIStoco",
        "outputId": "4a791876-9ca7-4c79-a5c8-7c76c76c3c36"
      },
      "execution_count": 15,
      "outputs": [
        {
          "output_type": "stream",
          "name": "stdout",
          "text": [
            "Número total de palabras que se pueden formar: 1764000\n"
          ]
        }
      ]
    }
  ],
  "metadata": {
    "colab": {
      "name": " Introduccion_Colab.ipynb",
      "provenance": [],
      "machine_shape": "hm"
    },
    "kernelspec": {
      "name": "python3",
      "display_name": "Python 3"
    },
    "accelerator": "GPU"
  },
  "nbformat": 4,
  "nbformat_minor": 0
}