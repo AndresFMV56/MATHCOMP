{
  "cells": [
    {
      "cell_type": "code",
      "source": [
        "import itertools\n",
        "\n",
        "# Número total de libros y número de libros a seleccionar\n",
        "total_libros = 3\n",
        "libros_a_seleccionar = 2\n",
        "\n",
        "# Generar todas las permutaciones posibles de 2 libros de 3\n",
        "permutaciones = list(itertools.permutations(range(total_libros), libros_a_seleccionar))\n",
        "\n",
        "# Contar el número de permutaciones\n",
        "numero_permutaciones = len(permutaciones)\n",
        "\n",
        "# Imprimir el resultado\n",
        "print(\"Número de maneras de ordenar 2 libros a la vez de 3 libros:\", numero_permutaciones)\n"
      ],
      "metadata": {
        "colab": {
          "base_uri": "https://localhost:8080/"
        },
        "id": "8QiJ6IIStoco",
        "outputId": "d825a402-5459-4b86-d072-c8b82f694d06"
      },
      "execution_count": 17,
      "outputs": [
        {
          "output_type": "stream",
          "name": "stdout",
          "text": [
            "Número de maneras de ordenar 2 libros a la vez de 3 libros: 6\n"
          ]
        }
      ]
    }
  ],
  "metadata": {
    "colab": {
      "name": " Introduccion_Colab.ipynb",
      "provenance": [],
      "machine_shape": "hm"
    },
    "kernelspec": {
      "name": "python3",
      "display_name": "Python 3"
    },
    "accelerator": "GPU"
  },
  "nbformat": 4,
  "nbformat_minor": 0
}