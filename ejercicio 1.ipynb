{
  "cells": [
    {
      "cell_type": "code",
      "source": [
        "import itertools\n",
        "\n",
        "# Generamos una secuencia de números del 1 al 100\n",
        "numeros = range(1, 101)\n",
        "\n",
        "# Usamos una función lambda para filtrar los números divisibles por 5 o 8\n",
        "divisibles_por_5_o_8 = filter(lambda x: x % 5 == 0 or x % 8 == 0, numeros)\n",
        "\n",
        "# Convertimos el resultado del filtro en una lista y contamos los elementos\n",
        "resultado = list(divisibles_por_5_o_8)\n",
        "cantidad = len(resultado)\n",
        "\n",
        "print(\"Números divisibles por 5 o 8:\", resultado)\n",
        "print(\"Cantidad de números divisibles por 5 o 8:\", cantidad)\n"
      ],
      "metadata": {
        "id": "8QiJ6IIStoco",
        "outputId": "8cc70eeb-fc66-4366-c8dd-f2a4d251cb3f",
        "colab": {
          "base_uri": "https://localhost:8080/"
        }
      },
      "execution_count": 1,
      "outputs": [
        {
          "output_type": "stream",
          "name": "stdout",
          "text": [
            "Números divisibles por 5 o 8: [5, 8, 10, 15, 16, 20, 24, 25, 30, 32, 35, 40, 45, 48, 50, 55, 56, 60, 64, 65, 70, 72, 75, 80, 85, 88, 90, 95, 96, 100]\n",
            "Cantidad de números divisibles por 5 o 8: 30\n"
          ]
        }
      ]
    }
  ],
  "metadata": {
    "colab": {
      "name": " Introduccion_Colab.ipynb",
      "provenance": [],
      "machine_shape": "hm"
    },
    "kernelspec": {
      "name": "python3",
      "display_name": "Python 3"
    },
    "accelerator": "GPU"
  },
  "nbformat": 4,
  "nbformat_minor": 0
}