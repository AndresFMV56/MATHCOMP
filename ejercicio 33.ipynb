{
  "cells": [
    {
      "cell_type": "code",
      "source": [
        "import itertools\n",
        "\n",
        "total_baterías = 12\n",
        "baterías_defectuosas = 1\n",
        "baterías_no_defectuosas = total_baterías - baterías_defectuosas\n",
        "\n",
        "baterías = list(range(total_baterías))\n",
        "\n",
        "# a. Obtener la defectuosa\n",
        "baterías_no_defectuosas_lista = list(range(baterías_defectuosas, total_baterías))  # Baterías no defectuosas\n",
        "combinaciones_con_defectuosa = list(itertools.combinations(baterías_no_defectuosas_lista, 2))\n",
        "numero_combinaciones_con_defectuosa = len(combinaciones_con_defectuosa)\n",
        "\n",
        "# b. No obtener la defectuosa\n",
        "combinaciones_sin_defectuosa = list(itertools.combinations(baterías_no_defectuosas_lista, 3))\n",
        "numero_combinaciones_sin_defectuosa = len(combinaciones_sin_defectuosa)\n",
        "\n",
        "print(f\"El número de maneras de seleccionar 3 baterías y obtener la defectuosa es: {numero_combinaciones_con_defectuosa}\")\n",
        "print(f\"El número de maneras de seleccionar 3 baterías y no obtener la defectuosa es: {numero_combinaciones_sin_defectuosa}\")\n"
      ],
      "metadata": {
        "colab": {
          "base_uri": "https://localhost:8080/"
        },
        "id": "8QiJ6IIStoco",
        "outputId": "6bbb8293-f229-488c-824b-03a0afe26855"
      },
      "execution_count": 36,
      "outputs": [
        {
          "output_type": "stream",
          "name": "stdout",
          "text": [
            "El número de maneras de seleccionar 3 baterías y obtener la defectuosa es: 55\n",
            "El número de maneras de seleccionar 3 baterías y no obtener la defectuosa es: 165\n"
          ]
        }
      ]
    },
    {
      "cell_type": "markdown",
      "source": [],
      "metadata": {
        "id": "zRNsKyqf0T0S"
      }
    }
  ],
  "metadata": {
    "colab": {
      "name": " Introduccion_Colab.ipynb",
      "provenance": [],
      "machine_shape": "hm"
    },
    "kernelspec": {
      "name": "python3",
      "display_name": "Python 3"
    },
    "accelerator": "GPU"
  },
  "nbformat": 4,
  "nbformat_minor": 0
}