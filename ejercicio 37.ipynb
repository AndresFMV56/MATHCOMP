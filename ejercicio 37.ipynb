{
  "cells": [
    {
      "cell_type": "code",
      "source": [
        "import itertools\n",
        "\n",
        "# Definir la longitud total de la cadena\n",
        "longitud_total = 16\n",
        "longitud_intermedia = longitud_total - 4  # 16 total - 2 al inicio - 2 al final\n",
        "\n",
        "# Generar todas las combinaciones posibles para los 12 bits intermedios\n",
        "# Cada bit puede ser 0 o 1, por lo que tenemos 2^12 combinaciones posibles\n",
        "bits_intermedios = list(itertools.product('01', repeat=longitud_intermedia))\n",
        "\n",
        "# Número total de combinaciones posibles para los bits intermedios\n",
        "numero_combinaciones = len(bits_intermedios)\n",
        "\n",
        "print(f\"El número total de cadenas de 16 bits que comienzan y terminan con '00' es: {numero_combinaciones}\")\n"
      ],
      "metadata": {
        "colab": {
          "base_uri": "https://localhost:8080/"
        },
        "id": "8QiJ6IIStoco",
        "outputId": "9f23ed19-b7fb-4501-bf31-7402ec6221a9"
      },
      "execution_count": 40,
      "outputs": [
        {
          "output_type": "stream",
          "name": "stdout",
          "text": [
            "El número total de cadenas de 16 bits que comienzan y terminan con '00' es: 4096\n"
          ]
        }
      ]
    },
    {
      "cell_type": "markdown",
      "source": [],
      "metadata": {
        "id": "zRNsKyqf0T0S"
      }
    }
  ],
  "metadata": {
    "colab": {
      "name": " Introduccion_Colab.ipynb",
      "provenance": [],
      "machine_shape": "hm"
    },
    "kernelspec": {
      "name": "python3",
      "display_name": "Python 3"
    },
    "accelerator": "GPU"
  },
  "nbformat": 4,
  "nbformat_minor": 0
}