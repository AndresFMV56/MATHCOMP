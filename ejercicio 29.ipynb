{
  "cells": [
    {
      "cell_type": "code",
      "source": [
        "import itertools\n",
        "\n",
        "# Definir el número de cursos en cada categoría\n",
        "total_ia = 6  # Cursos de inteligencia artificial\n",
        "total_algoritmos = 4  # Cursos de análisis de algoritmos\n",
        "total_computacion = 3  # Cursos de computación\n",
        "\n",
        "# Número de cursos a seleccionar en cada categoría\n",
        "seleccion_ia = 2\n",
        "seleccion_algoritmos = 2\n",
        "seleccion_computacion = 1\n",
        "\n",
        "# Crear listas de cursos (en realidad, los números son solo etiquetas)\n",
        "cursos_ia = list(range(total_ia))\n",
        "cursos_algoritmos = list(range(total_algoritmos))\n",
        "cursos_computacion = list(range(total_computacion))\n",
        "\n",
        "# Generar todas las combinaciones posibles para cada categoría\n",
        "combinaciones_ia = list(itertools.combinations(cursos_ia, seleccion_ia))\n",
        "combinaciones_algoritmos = list(itertools.combinations(cursos_algoritmos, seleccion_algoritmos))\n",
        "combinaciones_computacion = list(itertools.combinations(cursos_computacion, seleccion_computacion))\n",
        "\n",
        "# Calcular el número total de formas de inscribirse\n",
        "numero_formas = (len(combinaciones_ia) *\n",
        "                 len(combinaciones_algoritmos) *\n",
        "                 len(combinaciones_computacion))\n",
        "\n",
        "print(f\"El número de formas de inscribirse en los cursos es: {numero_formas}\")\n"
      ],
      "metadata": {
        "colab": {
          "base_uri": "https://localhost:8080/"
        },
        "id": "8QiJ6IIStoco",
        "outputId": "67e50431-63e3-4f8d-a3f7-e883d127947f"
      },
      "execution_count": 32,
      "outputs": [
        {
          "output_type": "stream",
          "name": "stdout",
          "text": [
            "El número de formas de inscribirse en los cursos es: 270\n"
          ]
        }
      ]
    }
  ],
  "metadata": {
    "colab": {
      "name": " Introduccion_Colab.ipynb",
      "provenance": [],
      "machine_shape": "hm"
    },
    "kernelspec": {
      "name": "python3",
      "display_name": "Python 3"
    },
    "accelerator": "GPU"
  },
  "nbformat": 4,
  "nbformat_minor": 0
}