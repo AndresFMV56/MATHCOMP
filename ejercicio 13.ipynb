{
  "cells": [
    {
      "cell_type": "code",
      "source": [
        "import math\n",
        "\n",
        "# Número total de alumnos y tamaño del equipo\n",
        "total_alumnos = 40\n",
        "tamano_equipo = 4\n",
        "\n",
        "# Calcular permutaciones\n",
        "permutaciones = math.perm(total_alumnos, tamano_equipo)\n",
        "\n",
        "# Calcular combinaciones\n",
        "combinaciones = math.comb(total_alumnos, tamano_equipo)\n",
        "\n",
        "# Imprimir resultados\n",
        "print(\"Número de permutaciones de 4 alumnos de 40:\", permutaciones)\n",
        "print(\"Número de combinaciones de 4 alumnos de 40:\", combinaciones)\n"
      ],
      "metadata": {
        "colab": {
          "base_uri": "https://localhost:8080/"
        },
        "id": "8QiJ6IIStoco",
        "outputId": "f509807c-6ecb-41ca-c392-ea73811c3ca1"
      },
      "execution_count": 16,
      "outputs": [
        {
          "output_type": "stream",
          "name": "stdout",
          "text": [
            "Número de permutaciones de 4 alumnos de 40: 2193360\n",
            "Número de combinaciones de 4 alumnos de 40: 91390\n"
          ]
        }
      ]
    }
  ],
  "metadata": {
    "colab": {
      "name": " Introduccion_Colab.ipynb",
      "provenance": [],
      "machine_shape": "hm"
    },
    "kernelspec": {
      "name": "python3",
      "display_name": "Python 3"
    },
    "accelerator": "GPU"
  },
  "nbformat": 4,
  "nbformat_minor": 0
}