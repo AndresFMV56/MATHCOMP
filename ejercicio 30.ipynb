{
  "cells": [
    {
      "cell_type": "code",
      "source": [
        "import itertools\n",
        "\n",
        "# Definir los nombres de los programadores\n",
        "programadores = ['Fabio', 'Sofía', 'Clara']\n",
        "\n",
        "# Definir los personajes (en realidad, los números son solo etiquetas)\n",
        "personajes = ['Personaje1', 'Personaje2', 'Personaje3']\n",
        "\n",
        "# Generar todas las permutaciones posibles de asignar los personajes a los programadores\n",
        "asignaciones = list(itertools.permutations(programadores, len(personajes)))\n",
        "\n",
        "# Calcular el número de formas posibles\n",
        "numero_asignaciones = len(asignaciones)\n",
        "\n",
        "print(f\"El número de formas de asignar los tres personajes a los tres programadores es: {numero_asignaciones}\")\n"
      ],
      "metadata": {
        "colab": {
          "base_uri": "https://localhost:8080/"
        },
        "id": "8QiJ6IIStoco",
        "outputId": "68096a83-6f2c-4a4a-e545-b8f3cbe19599"
      },
      "execution_count": 33,
      "outputs": [
        {
          "output_type": "stream",
          "name": "stdout",
          "text": [
            "El número de formas de asignar los tres personajes a los tres programadores es: 6\n"
          ]
        }
      ]
    },
    {
      "cell_type": "markdown",
      "source": [],
      "metadata": {
        "id": "zRNsKyqf0T0S"
      }
    }
  ],
  "metadata": {
    "colab": {
      "name": " Introduccion_Colab.ipynb",
      "provenance": [],
      "machine_shape": "hm"
    },
    "kernelspec": {
      "name": "python3",
      "display_name": "Python 3"
    },
    "accelerator": "GPU"
  },
  "nbformat": 4,
  "nbformat_minor": 0
}