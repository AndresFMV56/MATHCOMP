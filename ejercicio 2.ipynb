{
  "cells": [
    {
      "cell_type": "code",
      "source": [
        "import itertools\n",
        "\n",
        "personas = ['A', 'B', 'C', 'D', 'E']\n",
        "\n",
        "equipos = itertools.combinations(personas, 3)\n",
        "\n",
        "lista_equipos = list(equipos)\n",
        "\n",
        "cantidad_equipos = len(lista_equipos)\n",
        "\n",
        "print(\"Equipos de tres personas:\", lista_equipos)\n",
        "print(\"Cantidad de equipos de tres personas:\", cantidad_equipos)\n"
      ],
      "metadata": {
        "colab": {
          "base_uri": "https://localhost:8080/"
        },
        "id": "8QiJ6IIStoco",
        "outputId": "5a452e5a-d60d-4c32-e748-db95883eb136"
      },
      "execution_count": 2,
      "outputs": [
        {
          "output_type": "stream",
          "name": "stdout",
          "text": [
            "Equipos de tres personas: [('A', 'B', 'C'), ('A', 'B', 'D'), ('A', 'B', 'E'), ('A', 'C', 'D'), ('A', 'C', 'E'), ('A', 'D', 'E'), ('B', 'C', 'D'), ('B', 'C', 'E'), ('B', 'D', 'E'), ('C', 'D', 'E')]\n",
            "Cantidad de equipos de tres personas: 10\n"
          ]
        }
      ]
    }
  ],
  "metadata": {
    "colab": {
      "name": " Introduccion_Colab.ipynb",
      "provenance": [],
      "machine_shape": "hm"
    },
    "kernelspec": {
      "name": "python3",
      "display_name": "Python 3"
    },
    "accelerator": "GPU"
  },
  "nbformat": 4,
  "nbformat_minor": 0
}