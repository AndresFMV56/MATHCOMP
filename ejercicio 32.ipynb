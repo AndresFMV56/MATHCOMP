{
  "cells": [
    {
      "cell_type": "code",
      "source": [
        "import itertools\n",
        "\n",
        "# Definir los comerciales para cada caso\n",
        "comerciales_diferentes = 6\n",
        "comerciales_totales = 6\n",
        "\n",
        "\n",
        "permutaciones_diferentes = list(itertools.permutations(range(comerciales_diferentes)))\n",
        "numero_permutaciones_diferentes = len(permutaciones_diferentes)\n",
        "\n",
        "\n",
        "total_comerciales = 6\n",
        "repetidos = [0, 0]  # Dos comerciales iguales representados por 0\n",
        "diferentes = list(range(1, total_comerciales - len(repetidos) + 1))  # Comerciales diferentes\n",
        "todos_comerciales = repetidos + diferentes\n",
        "permutaciones_con_repetidos = list(itertools.permutations(todos_comerciales))\n",
        "numero_permutaciones_con_repetidos = len(set(permutaciones_con_repetidos))  # Eliminar duplicados\n",
        "\n",
        "\n",
        "repetido_dos_veces = 2\n",
        "diferentes_comerciales = 4\n",
        "comerciales = [0] * repetido_dos_veces + list(range(1, diferentes_comerciales + 1))\n",
        "permutaciones_comerciales = list(itertools.permutations(comerciales))\n",
        "numero_permutaciones_comerciales = len(set(permutaciones_comerciales))  # Eliminar duplicados\n",
        "\n",
        "print(f\"El número de maneras de ordenar 6 comerciales diferentes es: {numero_permutaciones_diferentes}\")\n",
        "print(f\"El número de maneras de ordenar 6 comerciales con 2 iguales es: {numero_permutaciones_con_repetidos}\")\n",
        "print(f\"El número de maneras de ordenar 6 comerciales con 4 diferentes y 1 repetido dos veces es: {numero_permutaciones_comerciales}\")\n"
      ],
      "metadata": {
        "colab": {
          "base_uri": "https://localhost:8080/"
        },
        "id": "8QiJ6IIStoco",
        "outputId": "f06f5518-ceed-4242-becf-4e2095b963cb"
      },
      "execution_count": 35,
      "outputs": [
        {
          "output_type": "stream",
          "name": "stdout",
          "text": [
            "El número de maneras de ordenar 6 comerciales diferentes es: 720\n",
            "El número de maneras de ordenar 6 comerciales con 2 iguales es: 360\n",
            "El número de maneras de ordenar 6 comerciales con 4 diferentes y 1 repetido dos veces es: 360\n"
          ]
        }
      ]
    },
    {
      "cell_type": "markdown",
      "source": [],
      "metadata": {
        "id": "zRNsKyqf0T0S"
      }
    }
  ],
  "metadata": {
    "colab": {
      "name": " Introduccion_Colab.ipynb",
      "provenance": [],
      "machine_shape": "hm"
    },
    "kernelspec": {
      "name": "python3",
      "display_name": "Python 3"
    },
    "accelerator": "GPU"
  },
  "nbformat": 4,
  "nbformat_minor": 0
}