{
  "cells": [
    {
      "cell_type": "code",
      "source": [
        "import math\n",
        "\n",
        "# Definir las frecuencias de cada tipo de recluta\n",
        "total_reclutas = 6\n",
        "infantes_de_marina = 3\n",
        "ejercito = 1\n",
        "naval = 1\n",
        "fuerza_aerea = 1\n",
        "\n",
        "# Calcular el número de permutaciones\n",
        "numero_permutaciones = math.factorial(total_reclutas) / (\n",
        "    math.factorial(infantes_de_marina) *\n",
        "    math.factorial(ejercito) *\n",
        "    math.factorial(naval) *\n",
        "    math.factorial(fuerza_aerea)\n",
        ")\n",
        "\n",
        "print(f\"El número de formas de alinear los seis reclutas es: {int(numero_permutaciones)}\")\n"
      ],
      "metadata": {
        "colab": {
          "base_uri": "https://localhost:8080/"
        },
        "id": "8QiJ6IIStoco",
        "outputId": "41683ed3-32a5-4a4a-8646-715d68a61e1f"
      },
      "execution_count": 26,
      "outputs": [
        {
          "output_type": "stream",
          "name": "stdout",
          "text": [
            "El número de formas de alinear los seis reclutas es: 120\n"
          ]
        }
      ]
    }
  ],
  "metadata": {
    "colab": {
      "name": " Introduccion_Colab.ipynb",
      "provenance": [],
      "machine_shape": "hm"
    },
    "kernelspec": {
      "name": "python3",
      "display_name": "Python 3"
    },
    "accelerator": "GPU"
  },
  "nbformat": 4,
  "nbformat_minor": 0
}