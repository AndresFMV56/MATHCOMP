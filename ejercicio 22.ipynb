{
  "cells": [
    {
      "cell_type": "code",
      "source": [
        "import itertools\n",
        "\n",
        "# Definir el número total de constructores y el número a elegir\n",
        "total_constructores = 15\n",
        "numero_a_elegir = 3\n",
        "\n",
        "# Crear una lista de constructores (en realidad los números son sólo etiquetas)\n",
        "constructores = range(total_constructores)\n",
        "\n",
        "# Generar todas las combinaciones posibles\n",
        "combinaciones = list(itertools.combinations(constructores, numero_a_elegir))\n",
        "\n",
        "# Contar el número de combinaciones\n",
        "numero_de_combinaciones = len(combinaciones)\n",
        "\n",
        "print(f\"El número de formas de elegir {numero_a_elegir} de {total_constructores} constructores es: {numero_de_combinaciones}\")\n"
      ],
      "metadata": {
        "colab": {
          "base_uri": "https://localhost:8080/"
        },
        "id": "8QiJ6IIStoco",
        "outputId": "7302407a-fc1e-4be8-b6cf-6291f03b0f62"
      },
      "execution_count": 25,
      "outputs": [
        {
          "output_type": "stream",
          "name": "stdout",
          "text": [
            "El número de formas de elegir 3 de 15 constructores es: 455\n"
          ]
        }
      ]
    }
  ],
  "metadata": {
    "colab": {
      "name": " Introduccion_Colab.ipynb",
      "provenance": [],
      "machine_shape": "hm"
    },
    "kernelspec": {
      "name": "python3",
      "display_name": "Python 3"
    },
    "accelerator": "GPU"
  },
  "nbformat": 4,
  "nbformat_minor": 0
}