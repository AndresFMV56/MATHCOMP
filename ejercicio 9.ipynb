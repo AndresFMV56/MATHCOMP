{
  "cells": [
    {
      "cell_type": "code",
      "source": [
        "import itertools\n",
        "\n",
        "total_personas = 9\n",
        "personas_por_comite = 4\n",
        "\n",
        "comites = itertools.combinations(range(total_personas), personas_por_comite)\n",
        "\n",
        "numero_comites = len(list(comites))\n",
        "\n",
        "print(\"Número de comités de 4 personas que se pueden formar con 9 personas:\", numero_comites)\n"
      ],
      "metadata": {
        "colab": {
          "base_uri": "https://localhost:8080/"
        },
        "id": "8QiJ6IIStoco",
        "outputId": "a0dec1ce-0814-4dcd-af06-3392aa36bc45"
      },
      "execution_count": 12,
      "outputs": [
        {
          "output_type": "stream",
          "name": "stdout",
          "text": [
            "Número de comités de 4 personas que se pueden formar con 9 personas: 126\n"
          ]
        }
      ]
    }
  ],
  "metadata": {
    "colab": {
      "name": " Introduccion_Colab.ipynb",
      "provenance": [],
      "machine_shape": "hm"
    },
    "kernelspec": {
      "name": "python3",
      "display_name": "Python 3"
    },
    "accelerator": "GPU"
  },
  "nbformat": 4,
  "nbformat_minor": 0
}