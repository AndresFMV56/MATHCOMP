{
  "cells": [
    {
      "cell_type": "code",
      "source": [
        "import itertools\n",
        "\n",
        "# Definir el número total de focos y el foco defectuoso\n",
        "total_focos = 12\n",
        "foco_defectuoso = 1\n",
        "\n",
        "# Número de focos a seleccionar\n",
        "focos_a_seleccionar = 2\n",
        "\n",
        "# Definir el rango de focos (0 a 11) y el índice del foco defectuoso\n",
        "focos = list(range(total_focos))\n",
        "\n",
        "# Seleccionar combinaciones de dos focos\n",
        "combinaciones = list(itertools.combinations(focos, focos_a_seleccionar))\n",
        "\n",
        "# Calcular el número de combinaciones en las que no se incluye el foco defectuoso\n",
        "combinaciones_sin_defectuoso = [c for c in combinaciones if foco_defectuoso not in c]\n",
        "numero_sin_defectuoso = len(combinaciones_sin_defectuoso)\n",
        "\n",
        "# Calcular el número de combinaciones en las que se incluye el foco defectuoso\n",
        "combinaciones_con_defectuoso = [c for c in combinaciones if foco_defectuoso in c]\n",
        "numero_con_defectuoso = len(combinaciones_con_defectuoso)\n",
        "\n",
        "print(f\"El número de formas de seleccionar dos focos sin incluir el foco defectuoso es: {numero_sin_defectuoso}\")\n",
        "print(f\"El número de formas de seleccionar dos focos incluyendo el foco defectuoso es: {numero_con_defectuoso}\")\n"
      ],
      "metadata": {
        "colab": {
          "base_uri": "https://localhost:8080/"
        },
        "id": "8QiJ6IIStoco",
        "outputId": "b6840810-7df8-49c5-d263-4ff7854e755f"
      },
      "execution_count": 28,
      "outputs": [
        {
          "output_type": "stream",
          "name": "stdout",
          "text": [
            "El número de formas de seleccionar dos focos sin incluir el foco defectuoso es: 55\n",
            "El número de formas de seleccionar dos focos incluyendo el foco defectuoso es: 11\n"
          ]
        }
      ]
    }
  ],
  "metadata": {
    "colab": {
      "name": " Introduccion_Colab.ipynb",
      "provenance": [],
      "machine_shape": "hm"
    },
    "kernelspec": {
      "name": "python3",
      "display_name": "Python 3"
    },
    "accelerator": "GPU"
  },
  "nbformat": 4,
  "nbformat_minor": 0
}