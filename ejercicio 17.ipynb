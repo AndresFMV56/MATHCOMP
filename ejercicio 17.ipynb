{
  "cells": [
    {
      "cell_type": "code",
      "source": [
        "import math\n",
        "\n",
        "# Número total de interruptores buenos y defectuosos\n",
        "total_buenos = 20\n",
        "total_defectuosos = 5\n",
        "\n",
        "# Número de interruptores buenos y defectuosos a seleccionar\n",
        "buenos_a_seleccionar = 4\n",
        "defectuosos_a_seleccionar = 2\n",
        "\n",
        "# Calcular combinaciones para los interruptores buenos\n",
        "combinaciones_buenos = math.comb(total_buenos, buenos_a_seleccionar)\n",
        "\n",
        "# Calcular combinaciones para los interruptores defectuosos\n",
        "combinaciones_defectuosos = math.comb(total_defectuosos, defectuosos_a_seleccionar)\n",
        "\n",
        "# Número total de formas de seleccionar los interruptores\n",
        "numero_formas = combinaciones_buenos * combinaciones_defectuosos\n",
        "\n",
        "# Imprimir el resultado\n",
        "print(\"Número de formas de escoger 4 interruptores buenos y 2 defectuosos:\", numero_formas)\n"
      ],
      "metadata": {
        "colab": {
          "base_uri": "https://localhost:8080/"
        },
        "id": "8QiJ6IIStoco",
        "outputId": "ed54f0e6-7cde-4d62-ef54-6dbe7fb965b6"
      },
      "execution_count": 20,
      "outputs": [
        {
          "output_type": "stream",
          "name": "stdout",
          "text": [
            "Número de formas de escoger 4 interruptores buenos y 2 defectuosos: 48450\n"
          ]
        }
      ]
    }
  ],
  "metadata": {
    "colab": {
      "name": " Introduccion_Colab.ipynb",
      "provenance": [],
      "machine_shape": "hm"
    },
    "kernelspec": {
      "name": "python3",
      "display_name": "Python 3"
    },
    "accelerator": "GPU"
  },
  "nbformat": 4,
  "nbformat_minor": 0
}