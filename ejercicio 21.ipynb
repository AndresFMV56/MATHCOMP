{
  "cells": [
    {
      "cell_type": "code",
      "source": [
        "import itertools\n",
        "\n",
        "# Número total de trabajadores\n",
        "n = 10\n",
        "# Número de trabajadores a elegir\n",
        "k = 3\n",
        "\n",
        "# Calcular permutaciones (cuando el orden importa)\n",
        "permutations = list(itertools.permutations(range(n), k))\n",
        "num_permutations = len(permutations)\n",
        "\n",
        "# Calcular combinaciones (cuando el orden no importa)\n",
        "combinations = list(itertools.combinations(range(n), k))\n",
        "num_combinations = len(combinations)\n",
        "\n",
        "# Imprimir los resultados\n",
        "print(f\"El número de formas en que se pueden planear las entrevistas (orden importa) es: {num_permutations}\")\n",
        "print(f\"El número de formas en que se pueden planear las entrevistas (orden no importa) es: {num_combinations}\")\n"
      ],
      "metadata": {
        "colab": {
          "base_uri": "https://localhost:8080/"
        },
        "id": "8QiJ6IIStoco",
        "outputId": "d659efbb-82fa-4bd1-bee0-c72141ec027e"
      },
      "execution_count": 24,
      "outputs": [
        {
          "output_type": "stream",
          "name": "stdout",
          "text": [
            "El número de formas en que se pueden planear las entrevistas (orden importa) es: 720\n",
            "El número de formas en que se pueden planear las entrevistas (orden no importa) es: 120\n"
          ]
        }
      ]
    }
  ],
  "metadata": {
    "colab": {
      "name": " Introduccion_Colab.ipynb",
      "provenance": [],
      "machine_shape": "hm"
    },
    "kernelspec": {
      "name": "python3",
      "display_name": "Python 3"
    },
    "accelerator": "GPU"
  },
  "nbformat": 4,
  "nbformat_minor": 0
}