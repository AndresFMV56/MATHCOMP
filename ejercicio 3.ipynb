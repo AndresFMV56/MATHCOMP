{
  "cells": [
    {
      "cell_type": "code",
      "source": [
        "import itertools\n",
        "\n",
        "objetos = ['A', 'B', 'C']\n",
        "\n",
        "permutaciones = itertools.permutations(objetos, 3)\n",
        "\n",
        "\n",
        "lista_permutaciones = list(permutaciones)\n",
        "\n",
        "\n",
        "cantidad_permutaciones = len(lista_permutaciones)\n",
        "\n",
        "\n",
        "print(\"Permutaciones de tres elementos:\", lista_permutaciones)\n",
        "print(\"Cantidad de permutaciones de tres elementos:\", cantidad_permutaciones)\n"
      ],
      "metadata": {
        "colab": {
          "base_uri": "https://localhost:8080/"
        },
        "id": "8QiJ6IIStoco",
        "outputId": "5abf27e1-02c0-48b7-f2be-ed0c4e9002c1"
      },
      "execution_count": 3,
      "outputs": [
        {
          "output_type": "stream",
          "name": "stdout",
          "text": [
            "Permutaciones de tres elementos: [('A', 'B', 'C'), ('A', 'C', 'B'), ('B', 'A', 'C'), ('B', 'C', 'A'), ('C', 'A', 'B'), ('C', 'B', 'A')]\n",
            "Cantidad de permutaciones de tres elementos: 6\n"
          ]
        }
      ]
    }
  ],
  "metadata": {
    "colab": {
      "name": " Introduccion_Colab.ipynb",
      "provenance": [],
      "machine_shape": "hm"
    },
    "kernelspec": {
      "name": "python3",
      "display_name": "Python 3"
    },
    "accelerator": "GPU"
  },
  "nbformat": 4,
  "nbformat_minor": 0
}