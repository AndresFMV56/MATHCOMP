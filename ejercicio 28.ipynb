{
  "cells": [
    {
      "cell_type": "code",
      "source": [
        "import math\n",
        "import itertools\n",
        "\n",
        "# Definir el número total de expedientes y el número de expedientes a seleccionar\n",
        "total_expedientes = 15\n",
        "expedientes_a_seleccionar = 4\n",
        "\n",
        "# Usar la fórmula de combinaciones\n",
        "numero_combinaciones_formula = math.comb(total_expedientes, expedientes_a_seleccionar)\n",
        "\n",
        "# Usar itertools.combinations para contar el número de combinaciones\n",
        "expedientes = list(range(total_expedientes))\n",
        "combinaciones = list(itertools.combinations(expedientes, expedientes_a_seleccionar))\n",
        "numero_combinaciones_itertools = len(combinaciones)\n",
        "\n",
        "print(f\"El número de maneras diferentes de seleccionar {expedientes_a_seleccionar} expedientes de {total_expedientes} es: {numero_combinaciones_formula}\")\n",
        "print(f\"El número de maneras diferentes de seleccionar {expedientes_a_seleccionar} expedientes de {total_expedientes} usando itertools es: {numero_combinaciones_itertools}\")\n"
      ],
      "metadata": {
        "colab": {
          "base_uri": "https://localhost:8080/"
        },
        "id": "8QiJ6IIStoco",
        "outputId": "e44e0e3d-0bc3-4b0a-82a9-fb139ca5ad51"
      },
      "execution_count": 31,
      "outputs": [
        {
          "output_type": "stream",
          "name": "stdout",
          "text": [
            "El número de maneras diferentes de seleccionar 4 expedientes de 15 es: 1365\n",
            "El número de maneras diferentes de seleccionar 4 expedientes de 15 usando itertools es: 1365\n"
          ]
        }
      ]
    }
  ],
  "metadata": {
    "colab": {
      "name": " Introduccion_Colab.ipynb",
      "provenance": [],
      "machine_shape": "hm"
    },
    "kernelspec": {
      "name": "python3",
      "display_name": "Python 3"
    },
    "accelerator": "GPU"
  },
  "nbformat": 4,
  "nbformat_minor": 0
}