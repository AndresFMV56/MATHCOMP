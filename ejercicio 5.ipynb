{
  "cells": [
    {
      "cell_type": "code",
      "source": [
        "import itertools\n",
        "\n",
        "total_banderas = 8\n",
        "\n",
        "rojas = 4\n",
        "blancas = 3\n",
        "azul = 1\n",
        "\n",
        "banderas = ['R'] * rojas + ['B'] * blancas + ['A'] * azul\n",
        "\n",
        "permutaciones = set(itertools.permutations(banderas))\n",
        "\n",
        "cantidad_permutaciones = len(permutaciones)\n",
        "\n",
        "print(\"Cantidad de señales diferentes:\", cantidad_permutaciones)\n"
      ],
      "metadata": {
        "colab": {
          "base_uri": "https://localhost:8080/"
        },
        "id": "8QiJ6IIStoco",
        "outputId": "0cec34f8-d608-4dc1-f990-7af29c793f92"
      },
      "execution_count": 5,
      "outputs": [
        {
          "output_type": "stream",
          "name": "stdout",
          "text": [
            "Cantidad de señales diferentes: 280\n"
          ]
        }
      ]
    }
  ],
  "metadata": {
    "colab": {
      "name": " Introduccion_Colab.ipynb",
      "provenance": [],
      "machine_shape": "hm"
    },
    "kernelspec": {
      "name": "python3",
      "display_name": "Python 3"
    },
    "accelerator": "GPU"
  },
  "nbformat": 4,
  "nbformat_minor": 0
}