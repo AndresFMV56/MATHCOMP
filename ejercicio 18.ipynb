{
  "cells": [
    {
      "cell_type": "code",
      "source": [
        "import itertools\n",
        "\n",
        "# Cantidades de canicas de cada color\n",
        "amarillas = 3\n",
        "azules = 2\n",
        "verdes = 4\n",
        "\n",
        "# Crear una lista de todas las canicas\n",
        "canicas = ['A'] * amarillas + ['B'] * azules + ['C'] * verdes\n",
        "\n",
        "# Generar todas las permutaciones posibles\n",
        "permutaciones = set(itertools.permutations(canicas))\n",
        "\n",
        "# Contar el número de permutaciones únicas\n",
        "numero_permutaciones = len(permutaciones)\n",
        "\n",
        "# Imprimir el resultado\n",
        "print(\"Número de formas diferentes de acomodar las canicas:\", numero_permutaciones)\n"
      ],
      "metadata": {
        "colab": {
          "base_uri": "https://localhost:8080/"
        },
        "id": "8QiJ6IIStoco",
        "outputId": "d81400d5-3878-4090-e1de-19c1618a0abb"
      },
      "execution_count": 21,
      "outputs": [
        {
          "output_type": "stream",
          "name": "stdout",
          "text": [
            "Número de formas diferentes de acomodar las canicas: 1260\n"
          ]
        }
      ]
    }
  ],
  "metadata": {
    "colab": {
      "name": " Introduccion_Colab.ipynb",
      "provenance": [],
      "machine_shape": "hm"
    },
    "kernelspec": {
      "name": "python3",
      "display_name": "Python 3"
    },
    "accelerator": "GPU"
  },
  "nbformat": 4,
  "nbformat_minor": 0
}