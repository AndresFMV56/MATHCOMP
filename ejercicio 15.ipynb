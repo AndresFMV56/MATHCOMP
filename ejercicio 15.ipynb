{
  "cells": [
    {
      "cell_type": "code",
      "source": [
        "import itertools\n",
        "\n",
        "# Número total de tiendas y número de tiendas a seleccionar\n",
        "total_tiendas = 5\n",
        "tiendas_a_seleccionar = 3\n",
        "\n",
        "# Generar todas las combinaciones posibles de 3 tiendas de 5\n",
        "combinaciones = list(itertools.combinations(range(total_tiendas), tiendas_a_seleccionar))\n",
        "\n",
        "# Contar el número de combinaciones\n",
        "numero_combinaciones = len(combinaciones)\n",
        "\n",
        "# Imprimir el resultado\n",
        "print(\"Número de maneras de seleccionar 3 tiendas de 5:\", numero_combinaciones)\n"
      ],
      "metadata": {
        "colab": {
          "base_uri": "https://localhost:8080/"
        },
        "id": "8QiJ6IIStoco",
        "outputId": "3985304b-4a4b-48bf-e6a4-cf2cfad7f05d"
      },
      "execution_count": 18,
      "outputs": [
        {
          "output_type": "stream",
          "name": "stdout",
          "text": [
            "Número de maneras de seleccionar 3 tiendas de 5: 10\n"
          ]
        }
      ]
    }
  ],
  "metadata": {
    "colab": {
      "name": " Introduccion_Colab.ipynb",
      "provenance": [],
      "machine_shape": "hm"
    },
    "kernelspec": {
      "name": "python3",
      "display_name": "Python 3"
    },
    "accelerator": "GPU"
  },
  "nbformat": 4,
  "nbformat_minor": 0
}