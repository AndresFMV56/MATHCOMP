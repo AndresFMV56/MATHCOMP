{
  "cells": [
    {
      "cell_type": "code",
      "source": [
        "import math\n",
        "\n",
        "libros_matematicas = 6\n",
        "libros_fisica = 6\n",
        "libros_quimica = 2\n",
        "\n",
        "bloques = 3\n",
        "\n",
        "total_formas_a = math.factorial(bloques) * math.factorial(libros_matematicas) * math.factorial(libros_fisica) * math.factorial(libros_quimica)\n",
        "\n",
        "elementos_totales = 1 + libros_fisica + libros_quimica\n",
        "\n",
        "total_formas_b = math.factorial(elementos_totales) * math.factorial(libros_matematicas) * math.factorial(libros_fisica) * math.factorial(libros_quimica)\n",
        "\n",
        "print(\"Número total de formas distintas (cada asignatura junta):\", total_formas_a)\n",
        "print(\"Número total de formas distintas (solo matemáticas juntas):\", total_formas_b)\n"
      ],
      "metadata": {
        "colab": {
          "base_uri": "https://localhost:8080/"
        },
        "id": "8QiJ6IIStoco",
        "outputId": "fd0964b0-a29e-4ffa-e0c8-c69774ea0687"
      },
      "execution_count": 7,
      "outputs": [
        {
          "output_type": "stream",
          "name": "stdout",
          "text": [
            "Número total de formas distintas (cada asignatura junta): 6220800\n",
            "Número total de formas distintas (solo matemáticas juntas): 376233984000\n"
          ]
        }
      ]
    }
  ],
  "metadata": {
    "colab": {
      "name": " Introduccion_Colab.ipynb",
      "provenance": [],
      "machine_shape": "hm"
    },
    "kernelspec": {
      "name": "python3",
      "display_name": "Python 3"
    },
    "accelerator": "GPU"
  },
  "nbformat": 4,
  "nbformat_minor": 0
}