{
  "cells": [
    {
      "cell_type": "code",
      "source": [
        "import itertools\n",
        "\n",
        "# Definir el número total de focos y el número de defectuosos\n",
        "total_focos = 12\n",
        "defectuosos = 2\n",
        "no_defectuosos = total_focos - defectuosos\n",
        "\n",
        "# Número de focos a seleccionar\n",
        "focos_a_seleccionar = 3\n",
        "\n",
        "# Crear listas de focos\n",
        "focos = list(range(total_focos))\n",
        "defectuosos_indices = list(range(defectuosos))\n",
        "no_defectuosos_indices = list(range(defectuosos, total_focos))\n",
        "\n",
        "# Generar todas las combinaciones posibles de 3 focos\n",
        "combinaciones = list(itertools.combinations(focos, focos_a_seleccionar))\n",
        "\n",
        "# a. Seleccionar 3 focos sin incluir ninguno de los defectuosos\n",
        "combinaciones_sin_defectuosos = [c for c in combinaciones if all(focus not in defectuosos_indices for focus in c)]\n",
        "numero_sin_defectuosos = len(combinaciones_sin_defectuosos)\n",
        "\n",
        "# b. Seleccionar 3 focos incluyendo exactamente uno de los defectuosos\n",
        "combinaciones_con_un_defectuoso = [c for c in combinaciones if len(set(c) & set(defectuosos_indices)) == 1]\n",
        "numero_con_un_defectuoso = len(combinaciones_con_un_defectuoso)\n",
        "\n",
        "# c. Seleccionar 3 focos incluyendo ambos defectuosos\n",
        "combinaciones_con_dos_defectuosos = [c for c in combinaciones if len(set(c) & set(defectuosos_indices)) == 2]\n",
        "numero_con_dos_defectuosos = len(combinaciones_con_dos_defectuosos)\n",
        "\n",
        "print(f\"El número de formas de seleccionar 3 focos sin incluir ninguno de los defectuosos es: {numero_sin_defectuosos}\")\n",
        "print(f\"El número de formas de seleccionar 3 focos incluyendo exactamente uno de los defectuosos es: {numero_con_un_defectuoso}\")\n",
        "print(f\"El número de formas de seleccionar 3 focos incluyendo ambos defectuosos es: {numero_con_dos_defectuosos}\")\n"
      ],
      "metadata": {
        "colab": {
          "base_uri": "https://localhost:8080/"
        },
        "id": "8QiJ6IIStoco",
        "outputId": "93a037df-a447-47a3-ed18-4ae78a5c684f"
      },
      "execution_count": 29,
      "outputs": [
        {
          "output_type": "stream",
          "name": "stdout",
          "text": [
            "El número de formas de seleccionar 3 focos sin incluir ninguno de los defectuosos es: 120\n",
            "El número de formas de seleccionar 3 focos incluyendo exactamente uno de los defectuosos es: 90\n",
            "El número de formas de seleccionar 3 focos incluyendo ambos defectuosos es: 10\n"
          ]
        }
      ]
    }
  ],
  "metadata": {
    "colab": {
      "name": " Introduccion_Colab.ipynb",
      "provenance": [],
      "machine_shape": "hm"
    },
    "kernelspec": {
      "name": "python3",
      "display_name": "Python 3"
    },
    "accelerator": "GPU"
  },
  "nbformat": 4,
  "nbformat_minor": 0
}