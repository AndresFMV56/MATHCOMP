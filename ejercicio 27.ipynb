{
  "cells": [
    {
      "cell_type": "code",
      "source": [
        "import itertools\n",
        "\n",
        "# Definir el número total de noticias y el número de noticias a seleccionar\n",
        "total_noticias = 7\n",
        "noticias_a_seleccionar = 3\n",
        "\n",
        "# Crear una lista de noticias (en realidad, los números son solo etiquetas)\n",
        "noticias = list(range(total_noticias))\n",
        "\n",
        "# Generar todas las permutaciones posibles de 3 noticias entre las 7\n",
        "permutaciones = list(itertools.permutations(noticias, noticias_a_seleccionar))\n",
        "\n",
        "# Calcular el número total de permutaciones\n",
        "numero_permutaciones = len(permutaciones)\n",
        "\n",
        "print(f\"El número de maneras diferentes de ordenar 3 noticias de 7 es: {numero_permutaciones}\")\n"
      ],
      "metadata": {
        "colab": {
          "base_uri": "https://localhost:8080/"
        },
        "id": "8QiJ6IIStoco",
        "outputId": "838ca6fe-2bc6-43c1-b67d-e9656fec5473"
      },
      "execution_count": 30,
      "outputs": [
        {
          "output_type": "stream",
          "name": "stdout",
          "text": [
            "El número de maneras diferentes de ordenar 3 noticias de 7 es: 210\n"
          ]
        }
      ]
    }
  ],
  "metadata": {
    "colab": {
      "name": " Introduccion_Colab.ipynb",
      "provenance": [],
      "machine_shape": "hm"
    },
    "kernelspec": {
      "name": "python3",
      "display_name": "Python 3"
    },
    "accelerator": "GPU"
  },
  "nbformat": 4,
  "nbformat_minor": 0
}