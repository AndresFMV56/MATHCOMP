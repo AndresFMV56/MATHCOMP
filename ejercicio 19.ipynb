{
  "cells": [
    {
      "cell_type": "code",
      "source": [
        "import itertools\n",
        "\n",
        "# Número total de títulos y número de títulos a seleccionar\n",
        "total_titulos = 10\n",
        "titulos_a_seleccionar = 3\n",
        "\n",
        "# Crear una lista de los títulos\n",
        "titulos = range(total_titulos)\n",
        "\n",
        "# Generar todas las permutaciones posibles de 3 títulos de 10\n",
        "permutaciones = list(itertools.permutations(titulos, titulos_a_seleccionar))\n",
        "\n",
        "# Contar el número de permutaciones\n",
        "numero_permutaciones = len(permutaciones)\n",
        "\n",
        "# Imprimir el resultado\n",
        "print(\"Número de permutaciones posibles de 3 títulos de 10:\", numero_permutaciones)\n"
      ],
      "metadata": {
        "colab": {
          "base_uri": "https://localhost:8080/"
        },
        "id": "8QiJ6IIStoco",
        "outputId": "95785332-ce8d-4f00-dedf-634e72b1947f"
      },
      "execution_count": 22,
      "outputs": [
        {
          "output_type": "stream",
          "name": "stdout",
          "text": [
            "Número de permutaciones posibles de 3 títulos de 10: 720\n"
          ]
        }
      ]
    }
  ],
  "metadata": {
    "colab": {
      "name": " Introduccion_Colab.ipynb",
      "provenance": [],
      "machine_shape": "hm"
    },
    "kernelspec": {
      "name": "python3",
      "display_name": "Python 3"
    },
    "accelerator": "GPU"
  },
  "nbformat": 4,
  "nbformat_minor": 0
}