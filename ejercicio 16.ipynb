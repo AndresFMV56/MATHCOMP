{
  "cells": [
    {
      "cell_type": "code",
      "source": [
        "import math\n",
        "\n",
        "# Número total de productos y número de productos a seleccionar\n",
        "total_productos = 8\n",
        "productos_a_seleccionar = 4\n",
        "\n",
        "# Calcular combinaciones\n",
        "numero_combinaciones = math.comb(total_productos, productos_a_seleccionar)\n",
        "\n",
        "# Imprimir el resultado\n",
        "print(\"Número de formas de seleccionar 4 productos de 8:\", numero_combinaciones)\n"
      ],
      "metadata": {
        "colab": {
          "base_uri": "https://localhost:8080/"
        },
        "id": "8QiJ6IIStoco",
        "outputId": "f840e996-90e7-4d1a-bea3-b3d3ef8d31c7"
      },
      "execution_count": 19,
      "outputs": [
        {
          "output_type": "stream",
          "name": "stdout",
          "text": [
            "Número de formas de seleccionar 4 productos de 8: 70\n"
          ]
        }
      ]
    }
  ],
  "metadata": {
    "colab": {
      "name": " Introduccion_Colab.ipynb",
      "provenance": [],
      "machine_shape": "hm"
    },
    "kernelspec": {
      "name": "python3",
      "display_name": "Python 3"
    },
    "accelerator": "GPU"
  },
  "nbformat": 4,
  "nbformat_minor": 0
}