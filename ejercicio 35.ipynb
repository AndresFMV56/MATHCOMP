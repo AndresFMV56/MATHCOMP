{
  "cells": [
    {
      "cell_type": "code",
      "source": [
        "# Definir las opciones para cada característica del vehículo\n",
        "colores_totales = 10\n",
        "lineas_totales = 5\n",
        "transmisiones_totales = 3\n",
        "cilindrajes_totales = 2\n",
        "\n",
        "# a. Calcular el número total de tipos de vehículos posibles\n",
        "tipos_totales = colores_totales * lineas_totales * transmisiones_totales * cilindrajes_totales\n",
        "\n",
        "# Definir el número de colores primarios\n",
        "colores_primarios = 3\n",
        "\n",
        "# b. Calcular el número total de tipos de vehículos con colores primarios\n",
        "tipos_colores_primarios = colores_primarios * lineas_totales * transmisiones_totales * cilindrajes_totales\n",
        "\n",
        "print(f\"El número total de tipos de vehículos posibles es: {tipos_totales}\")\n",
        "print(f\"El número total de tipos de vehículos con colores primarios es: {tipos_colores_primarios}\")\n"
      ],
      "metadata": {
        "colab": {
          "base_uri": "https://localhost:8080/"
        },
        "id": "8QiJ6IIStoco",
        "outputId": "d04a65e5-489e-426d-e72a-f7de8ed8f0eb"
      },
      "execution_count": 38,
      "outputs": [
        {
          "output_type": "stream",
          "name": "stdout",
          "text": [
            "El número total de tipos de vehículos posibles es: 300\n",
            "El número total de tipos de vehículos con colores primarios es: 90\n"
          ]
        }
      ]
    },
    {
      "cell_type": "markdown",
      "source": [],
      "metadata": {
        "id": "zRNsKyqf0T0S"
      }
    }
  ],
  "metadata": {
    "colab": {
      "name": " Introduccion_Colab.ipynb",
      "provenance": [],
      "machine_shape": "hm"
    },
    "kernelspec": {
      "name": "python3",
      "display_name": "Python 3"
    },
    "accelerator": "GPU"
  },
  "nbformat": 4,
  "nbformat_minor": 0
}