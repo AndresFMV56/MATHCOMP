{
  "cells": [
    {
      "cell_type": "code",
      "source": [
        "import itertools\n",
        "\n",
        "total_cartas = 52\n",
        "\n",
        "numero_cartas_a_seleccionar = 4\n",
        "\n",
        "combinaciones = itertools.combinations(range(total_cartas), numero_cartas_a_seleccionar)\n",
        "\n",
        "lista_combinaciones = list(combinaciones)\n",
        "\n",
        "cantidad_combinaciones = len(lista_combinaciones)\n",
        "\n",
        "print(\"Cantidad de formas diferentes de sacar 4 cartas de 52:\", cantidad_combinaciones)\n"
      ],
      "metadata": {
        "colab": {
          "base_uri": "https://localhost:8080/"
        },
        "id": "8QiJ6IIStoco",
        "outputId": "a24e0141-e1b6-44bb-ce4b-61ba31558c2e"
      },
      "execution_count": 4,
      "outputs": [
        {
          "output_type": "stream",
          "name": "stdout",
          "text": [
            "Cantidad de formas diferentes de sacar 4 cartas de 52: 270725\n"
          ]
        }
      ]
    }
  ],
  "metadata": {
    "colab": {
      "name": " Introduccion_Colab.ipynb",
      "provenance": [],
      "machine_shape": "hm"
    },
    "kernelspec": {
      "name": "python3",
      "display_name": "Python 3"
    },
    "accelerator": "GPU"
  },
  "nbformat": 4,
  "nbformat_minor": 0
}