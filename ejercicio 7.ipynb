{
  "cells": [
    {
      "cell_type": "code",
      "source": [
        "import itertools\n",
        "\n",
        "n = 20\n",
        "\n",
        "total_formas = 0\n",
        "\n",
        "for k in range(3, 16):\n",
        "    combinaciones = itertools.combinations(range(n), k)\n",
        "\n",
        "    num_combinaciones = len(list(combinaciones))\n",
        "\n",
        "    total_formas += num_combinaciones\n",
        "\n",
        "print(\"Número total de formas en que el ejecutivo puede elegir entre 3 y 15 empleados:\", total_formas)\n"
      ],
      "metadata": {
        "colab": {
          "base_uri": "https://localhost:8080/"
        },
        "id": "8QiJ6IIStoco",
        "outputId": "4e2481f0-2283-415f-8106-a3664d22ab22"
      },
      "execution_count": 9,
      "outputs": [
        {
          "output_type": "stream",
          "name": "stdout",
          "text": [
            "Número total de formas en que el ejecutivo puede elegir entre 3 y 15 empleados: 1042169\n"
          ]
        }
      ]
    }
  ],
  "metadata": {
    "colab": {
      "name": " Introduccion_Colab.ipynb",
      "provenance": [],
      "machine_shape": "hm"
    },
    "kernelspec": {
      "name": "python3",
      "display_name": "Python 3"
    },
    "accelerator": "GPU"
  },
  "nbformat": 4,
  "nbformat_minor": 0
}