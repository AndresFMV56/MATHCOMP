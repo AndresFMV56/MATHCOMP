{
  "cells": [
    {
      "cell_type": "code",
      "source": [
        "import itertools\n",
        "\n",
        "# Número total de libros y distribución por idioma\n",
        "total_libros = 9\n",
        "griego = 4\n",
        "latin = 5\n",
        "\n",
        "# a. Número total de formas de ubicar los libros sin ninguna restricción\n",
        "libros = ['G'] * griego + ['L'] * latin\n",
        "formas_totales = len(set(itertools.permutations(libros)))\n",
        "print(f\"El número de formas de ubicar los libros sin restricciones es: {formas_totales}\")\n",
        "\n",
        "# b. Número de formas si todos los libros en latín deben estar uno al lado del otro\n",
        "\n",
        "bloque_latín = ['L'] * latin\n",
        "bloque_latín_permutaciones = len(set(itertools.permutations(bloque_latín)))\n",
        "formas_con_bloque = len(set(itertools.permutations(['G'] * griego + ['LLL', 'LLL', 'LLL', 'LLL', 'LLL']))) * bloque_latín_permutaciones\n",
        "print(f\"El número de formas si los libros en latín deben estar uno al lado del otro es: {formas_con_bloque}\")\n",
        "\n",
        "# c. Número de formas si los libros deben alternar entre latín y griego\n",
        "\n",
        "formas_alternancia = 0\n",
        "if griego == latin - 1 or latin == griego - 1:  # Para que se pueda alternar debe haber una diferencia de exactamente 1\n",
        "    permutaciones_griego = len(set(itertools.permutations(['G'] * griego)))\n",
        "    permutaciones_latín = len(set(itertools.permutations(['L'] * latin)))\n",
        "    formas_alternancia = permutaciones_griego * permutaciones_latín\n",
        "print(f\"El número de formas de ubicar los libros alternando entre latín y griego es: {formas_alternancia}\")\n"
      ],
      "metadata": {
        "colab": {
          "base_uri": "https://localhost:8080/"
        },
        "id": "8QiJ6IIStoco",
        "outputId": "2b0f3324-220d-490c-a486-d7b8b92cc38a"
      },
      "execution_count": 42,
      "outputs": [
        {
          "output_type": "stream",
          "name": "stdout",
          "text": [
            "El número de formas de ubicar los libros sin restricciones es: 126\n",
            "El número de formas si los libros en latín deben estar uno al lado del otro es: 126\n",
            "El número de formas de ubicar los libros alternando entre latín y griego es: 1\n"
          ]
        }
      ]
    },
    {
      "cell_type": "markdown",
      "source": [],
      "metadata": {
        "id": "zRNsKyqf0T0S"
      }
    }
  ],
  "metadata": {
    "colab": {
      "name": " Introduccion_Colab.ipynb",
      "provenance": [],
      "machine_shape": "hm"
    },
    "kernelspec": {
      "name": "python3",
      "display_name": "Python 3"
    },
    "accelerator": "GPU"
  },
  "nbformat": 4,
  "nbformat_minor": 0
}