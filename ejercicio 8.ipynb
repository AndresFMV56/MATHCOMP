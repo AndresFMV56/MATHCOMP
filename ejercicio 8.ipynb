{
  "cells": [
    {
      "cell_type": "code",
      "source": [
        "import itertools\n",
        "\n",
        "total_trabajadores = 18\n",
        "trabajadores_a_seleccionar = 12\n",
        "\n",
        "combinaciones = itertools.combinations(range(total_trabajadores), trabajadores_a_seleccionar)\n",
        "\n",
        "numero_combinaciones = len(list(combinaciones))\n",
        "\n",
        "print(\"Número de formas en que el capataz puede escoger a 12 de 18 trabajadores:\", numero_combinaciones)\n"
      ],
      "metadata": {
        "colab": {
          "base_uri": "https://localhost:8080/"
        },
        "id": "8QiJ6IIStoco",
        "outputId": "73fd7fc4-6ec4-4ad7-a0b6-02d6398b81a9"
      },
      "execution_count": 11,
      "outputs": [
        {
          "output_type": "stream",
          "name": "stdout",
          "text": [
            "Número de formas en que el capataz puede escoger a 12 de 18 trabajadores: 18564\n"
          ]
        }
      ]
    }
  ],
  "metadata": {
    "colab": {
      "name": " Introduccion_Colab.ipynb",
      "provenance": [],
      "machine_shape": "hm"
    },
    "kernelspec": {
      "name": "python3",
      "display_name": "Python 3"
    },
    "accelerator": "GPU"
  },
  "nbformat": 4,
  "nbformat_minor": 0
}