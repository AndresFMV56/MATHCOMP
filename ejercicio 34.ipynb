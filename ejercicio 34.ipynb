{
  "cells": [
    {
      "cell_type": "code",
      "source": [
        "import itertools\n",
        "\n",
        "# Definir el número total de motores e interruptores\n",
        "total_motores = 8\n",
        "total_interruptores = 5\n",
        "\n",
        "# Número de motores e interruptores a seleccionar\n",
        "seleccion_motores = 2\n",
        "seleccion_interruptores = 2\n",
        "\n",
        "motores = list(range(total_motores))\n",
        "interruptores = list(range(total_interruptores))\n",
        "\n",
        "combinaciones_motores = list(itertools.combinations(motores, seleccion_motores))\n",
        "numero_combinaciones_motores = len(combinaciones_motores)\n",
        "\n",
        "combinaciones_interruptores = list(itertools.combinations(interruptores, seleccion_interruptores))\n",
        "numero_combinaciones_interruptores = len(combinaciones_interruptores)\n",
        "\n",
        "numero_manejas_totales = numero_combinaciones_motores * numero_combinaciones_interruptores\n",
        "\n",
        "print(f\"El número de maneras de seleccionar 2 motores de 8 diferentes es: {numero_combinaciones_motores}\")\n",
        "print(f\"El número de maneras de seleccionar 2 interruptores de 5 diferentes es: {numero_combinaciones_interruptores}\")\n",
        "print(f\"El número total de maneras de seleccionar 2 motores y 2 interruptores es: {numero_manejas_totales}\")\n"
      ],
      "metadata": {
        "colab": {
          "base_uri": "https://localhost:8080/"
        },
        "id": "8QiJ6IIStoco",
        "outputId": "11660883-a702-41d9-d33e-5c33ccb96bf9"
      },
      "execution_count": 37,
      "outputs": [
        {
          "output_type": "stream",
          "name": "stdout",
          "text": [
            "El número de maneras de seleccionar 2 motores de 8 diferentes es: 28\n",
            "El número de maneras de seleccionar 2 interruptores de 5 diferentes es: 10\n",
            "El número total de maneras de seleccionar 2 motores y 2 interruptores es: 280\n"
          ]
        }
      ]
    },
    {
      "cell_type": "markdown",
      "source": [],
      "metadata": {
        "id": "zRNsKyqf0T0S"
      }
    }
  ],
  "metadata": {
    "colab": {
      "name": " Introduccion_Colab.ipynb",
      "provenance": [],
      "machine_shape": "hm"
    },
    "kernelspec": {
      "name": "python3",
      "display_name": "Python 3"
    },
    "accelerator": "GPU"
  },
  "nbformat": 4,
  "nbformat_minor": 0
}