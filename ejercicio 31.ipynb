{
  "cells": [
    {
      "cell_type": "code",
      "source": [
        "import itertools\n",
        "\n",
        "# Definir el número total de preguntas\n",
        "total_preguntas = 12\n",
        "\n",
        "# Crear una lista de respuestas posibles (V para verdadero, F para falso)\n",
        "respuestas_posibles = ['V', 'F']\n",
        "\n",
        "# a. Calcular el número total de maneras diferentes de responder a todas las preguntas\n",
        "# Generar todas las combinaciones posibles de respuestas para 12 preguntas\n",
        "combinaciones_todas_preguntas = list(itertools.product(respuestas_posibles, repeat=total_preguntas))\n",
        "numero_combinaciones_todas_preguntas = len(combinaciones_todas_preguntas)\n",
        "\n",
        "# b. Si la primera pregunta es fija (por ejemplo, verdadera), calcular el número de maneras\n",
        "# de responder a las otras 11 preguntas\n",
        "# Generar todas las combinaciones posibles de respuestas para las 11 preguntas restantes\n",
        "combinaciones_preguntas_restantes = list(itertools.product(respuestas_posibles, repeat=total_preguntas - 1))\n",
        "numero_combinaciones_preguntas_restantes = len(combinaciones_preguntas_restantes)\n",
        "\n",
        "print(f\"El número de maneras diferentes de responder a las 12 preguntas es: {numero_combinaciones_todas_preguntas}\")\n",
        "print(f\"El número de maneras de responder a las 12 preguntas si la primera es verdadera es: {numero_combinaciones_preguntas_restantes}\")\n"
      ],
      "metadata": {
        "colab": {
          "base_uri": "https://localhost:8080/"
        },
        "id": "8QiJ6IIStoco",
        "outputId": "f291e78c-6e59-42b8-e30e-196f8f2d13ce"
      },
      "execution_count": 34,
      "outputs": [
        {
          "output_type": "stream",
          "name": "stdout",
          "text": [
            "El número de maneras diferentes de responder a las 12 preguntas es: 4096\n",
            "El número de maneras de responder a las 12 preguntas si la primera es verdadera es: 2048\n"
          ]
        }
      ]
    },
    {
      "cell_type": "markdown",
      "source": [],
      "metadata": {
        "id": "zRNsKyqf0T0S"
      }
    }
  ],
  "metadata": {
    "colab": {
      "name": " Introduccion_Colab.ipynb",
      "provenance": [],
      "machine_shape": "hm"
    },
    "kernelspec": {
      "name": "python3",
      "display_name": "Python 3"
    },
    "accelerator": "GPU"
  },
  "nbformat": 4,
  "nbformat_minor": 0
}